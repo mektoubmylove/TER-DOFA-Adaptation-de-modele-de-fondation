{
  "cells": [
    {
      "cell_type": "code",
      "execution_count": null,
      "metadata": {
        "colab": {
          "base_uri": "https://localhost:8080/"
        },
        "id": "BHWHOgzZ2w5F",
        "outputId": "21fedde1-8408-4676-dd4a-0f2125bacbdb"
      },
      "outputs": [],
      "source": [
        "!pip install torchgeo torchvision torch"
      ]
    },
    {
      "cell_type": "code",
      "execution_count": null,
      "metadata": {
        "colab": {
          "base_uri": "https://localhost:8080/"
        },
        "id": "zsRJSeja3DT_",
        "outputId": "aadc2d0e-7ebc-41e8-d643-31990216ea4a"
      },
      "outputs": [],
      "source": [
        "!pip install rasterio"
      ]
    },
    {
      "cell_type": "code",
      "execution_count": null,
      "metadata": {
        "colab": {
          "base_uri": "https://localhost:8080/"
        },
        "id": "0Nx8IAYt3DXz",
        "outputId": "adb0f50f-a857-4ec9-fd0a-bb815c72c3ae"
      },
      "outputs": [
        {
          "name": "stderr",
          "output_type": "stream",
          "text": [
            "100%|██████████| 2.07G/2.07G [00:29<00:00, 71.0MB/s]\n",
            "100%|██████████| 314k/314k [00:00<00:00, 9.62MB/s]\n",
            "100%|██████████| 105k/105k [00:00<00:00, 6.17MB/s]\n",
            "100%|██████████| 104k/104k [00:00<00:00, 5.81MB/s]\n"
          ]
        }
      ],
      "source": [
        "from torchgeo.datasets import EuroSAT\n",
        "\n",
        "\n",
        "# Charger le dataset EuroSAT\n",
        "dataset = EuroSAT(root=\"data\", download=True)"
      ]
    },
    {
      "cell_type": "code",
      "execution_count": null,
      "metadata": {
        "id": "wLLMIbg63HTq"
      },
      "outputs": [],
      "source": [
        "import numpy as np\n",
        "import matplotlib.pyplot as plt\n",
        "import torch\n",
        "import torch.nn as nn\n",
        "import torch.optim as optim\n",
        "import torchvision.transforms as transforms\n",
        "import rasterio\n",
        "from torch.utils.data import Dataset, DataLoader\n",
        "import glob\n",
        "import os"
      ]
    },
    {
      "cell_type": "code",
      "execution_count": null,
      "metadata": {
        "colab": {
          "base_uri": "https://localhost:8080/"
        },
        "id": "Gt896oUI3HZd",
        "outputId": "98c4446c-9583-4620-f4a0-e3de973c41ac"
      },
      "outputs": [
        {
          "name": "stderr",
          "output_type": "stream",
          "text": [
            "/usr/local/lib/python3.11/dist-packages/torch/hub.py:330: UserWarning: You are about to download and run code from an untrusted repository. In a future release, this won't be allowed. To add the repository to your trusted list, change the command to {calling_fn}(..., trust_repo=False) and a command prompt will appear asking for an explicit confirmation of trust, or load(..., trust_repo=True), which will assume that the prompt is to be answered with 'yes'. You can also use load(..., trust_repo='check') which will only prompt for confirmation if the repo is not already trusted. This will eventually be the default behaviour\n",
            "  warnings.warn(\n",
            "Downloading: \"https://github.com/zhu-xlab/DOFA/zipball/master\" to /root/.cache/torch/hub/master.zip\n",
            "Downloading: \"https://huggingface.co/earthflow/DOFA/resolve/main/DOFA_ViT_base_e100.pth\" to /root/.cache/torch/hub/checkpoints/DOFA_ViT_base_e100.pth\n",
            "100%|██████████| 427M/427M [00:06<00:00, 71.9MB/s]\n"
          ]
        }
      ],
      "source": [
        "\n",
        "device = torch.device(\"cuda\" if torch.cuda.is_available() else \"cpu\")\n",
        "\n",
        "#  Chargement du modèle DOFA pré-entraîné\n",
        "model = torch.hub.load('zhu-xlab/DOFA', 'vit_base_dofa', pretrained=True).to(device)\n",
        "\n",
        "# Sauvegarde des anciens poids et biais de la tête pré-entraînée\n",
        "pretrained_weights = model.head.weight.clone()\n",
        "pretrained_bias = model.head.bias.clone()\n",
        "\n",
        "num_classes = 10\n",
        "\n",
        "model.head = nn.Sequential(\n",
        "    nn.Dropout(p=0.5),  # 50% des neurones désactivés pendant l'entraînement\n",
        "    nn.Linear(model.head.in_features, num_classes)\n",
        ").to(device)\n",
        "\n",
        "# Initialisation des nouveaux poids en copiant les anciens \n",
        "with torch.no_grad():\n",
        "    model.head[1].weight[:num_classes] = pretrained_weights[:num_classes]\n",
        "    model.head[1].bias[:num_classes] = pretrained_bias[:num_classes]\n",
        "\n",
        "\n",
        "S2_MEAN_train= torch.tensor([1354.4061, 1118.2440, 1042.9303,  947.6266, 1199.4730, 1999.7909,\n",
        "        2369.2234, 2296.8264,  732.0832,   12.1133, 1819.0110, 1118.9241,\n",
        "        2594.1421],dtype=torch.float32)\n",
        "S2_STD_train = torch.tensor([245.7125,  333.0079,  395.0908,  593.7499,  566.4167,  861.1826,\n",
        "        1086.6309, 1117.9812,  404.9203,    4.7758, 1002.5856,  761.3032,\n",
        "        1231.5829], dtype=torch.float32)\n",
        "wavelengths = torch.tensor([0.443, 0.490, 0.560, 0.665, 0.705, 0.740, 0.783, 0.842, 0.865, 0.945, 1.375, 1.610, 2.190], dtype=torch.float32).to(device)"
      ]
    },
    {
      "cell_type": "code",
      "execution_count": null,
      "metadata": {
        "id": "_aZFYC3T_hnV"
      },
      "outputs": [],
      "source": [
        "#  Classe pour chargement et prétraitement des images\n",
        "class Sentinel2Dataset(Dataset):\n",
        "    def __init__(self, file_list, root_dir, transform=None):\n",
        "        #On charge la liste des fichiers images à partir du fichier texte (un fichier par ligne)\n",
        "        self.file_list = [line.strip() for line in open(file_list, 'r')]\n",
        "        self.root_dir = root_dir #dossier qui cntient lesimages\n",
        "        self.transform = transform #transformations\n",
        "        self.label_map = {cls: idx for idx, cls in enumerate([\"AnnualCrop\", \"Forest\", \"HerbaceousVegetation\", \"Highway\",\n",
        "                                                              \"Industrial\", \"Pasture\", \"PermanentCrop\", \"Residential\",\n",
        "                                                              \"River\", \"SeaLake\"])}\n",
        "\n",
        "    def __len__(self):\n",
        "        return len(self.file_list)\n",
        "\n",
        "    def __getitem__(self, idx):\n",
        "      # Récupère le nom du fichier image à l'index donné\n",
        "        img_name = self.file_list[idx]\n",
        "        class_name = img_name.split('_')[0]  # Extraire la classe depuis le nom du fichier\n",
        "        img_path = os.path.join(self.root_dir, class_name, img_name.replace(\".jpg\", \".tif\")) #chemin vers l'image\n",
        "\n",
        "        with rasterio.open(img_path) as src:\n",
        "            img = src.read().astype(np.float32)\n",
        "\n",
        "        img = torch.from_numpy(img)  # Convertir en tensor\n",
        "        label = self.label_map[class_name]  # Obtenir l'index de classe\n",
        "        #applique les transfo\n",
        "        if self.transform:\n",
        "            img = self.transform(img)\n",
        "\n",
        "        return img, label\n",
        "\n",
        "#  Définition des transformations\n",
        "class DataAugmentation(nn.Module):\n",
        "    def __init__(self, mean, std):\n",
        "        super().__init__()\n",
        "        self.transform = transforms.Compose([\n",
        "            #Découpe aléatoire et redimensionnement de l'image à 224x224\n",
        "            transforms.RandomResizedCrop(size=(224, 224), scale=(0.2, 1.0)),\n",
        "            #Normalisation\n",
        "            transforms.Normalize(mean=mean, std=std)\n",
        "        ])\n",
        "\n",
        "    def forward(self, x):\n",
        "       # Applique les transformations à l'image\n",
        "        return self.transform(x)\n",
        "#On applique ces transformations aux images en utilisant les valeurs de moyenne et d'écart-type de Sentinel-2\n",
        "transform = DataAugmentation(mean=S2_MEAN_train, std=S2_STD_train)"
      ]
    },
    {
      "cell_type": "code",
      "execution_count": null,
      "metadata": {
        "colab": {
          "base_uri": "https://localhost:8080/"
        },
        "id": "UMhkbvOepyTn",
        "outputId": "a34866ca-de39-4a66-a932-61e2bd3aeb7e"
      },
      "outputs": [
        {
          "name": "stdout",
          "output_type": "stream",
          "text": [
            "Moyenne par bande Sentinel-2 : tensor([1354.4061, 1118.2440, 1042.9303,  947.6266, 1199.4730, 1999.7909,\n",
            "        2369.2234, 2296.8264,  732.0832,   12.1133, 1819.0110, 1118.9241,\n",
            "        2594.1421])\n",
            "Écart-type par bande Sentinel-2 : tensor([ 245.7125,  333.0079,  395.0908,  593.7499,  566.4167,  861.1826,\n",
            "        1086.6309, 1117.9812,  404.9203,    4.7758, 1002.5856,  761.3032,\n",
            "        1231.5829])\n"
          ]
        }
      ],
      "source": [
        "\"\"\"data_dir = \"data/ds/images/remote_sensing/otherDatasets/sentinel_2/tif/\"\n",
        "dir_fic_txt=\"data/\"\n",
        "trainset = Sentinel2Dataset(os.path.join(dir_fic_txt, \"eurosat-train.txt\"), data_dir)\n",
        "train_loader = DataLoader(trainset, batch_size=64, shuffle=True)\n",
        "total_sum = torch.zeros(13)\n",
        "total_sum_sq = torch.zeros(13)\n",
        "total_pixels = 0\n",
        "\n",
        "# Parcours du DataLoader d'entraînement\n",
        "for images, _ in train_loader:\n",
        "    # images de forme (batch_size, 13, H, W)\n",
        "    batch_size, channels, H, W = images.shape\n",
        "\n",
        "    # Reshape en (batch_size, channels, H*W)\n",
        "    images = images.view(batch_size, channels, -1)\n",
        "\n",
        "    # Accumuler la somme et la somme des carrés par bande\n",
        "    total_sum += images.sum(dim=(0, 2))\n",
        "    total_sum_sq += (images**2).sum(dim=(0, 2))\n",
        "\n",
        "    # Mise à jour du nombre total de pixels\n",
        "    total_pixels += batch_size * H * W\n",
        "\n",
        "# Calcul de la moyenne et de l'écart-type\n",
        "S2_MEAN = total_sum / total_pixels\n",
        "variance = total_sum_sq / total_pixels - S2_MEAN**2\n",
        "S2_STD = torch.sqrt(variance)\n",
        "\n",
        "# Affichage des résultats\n",
        "print(\"Moyenne par bande Sentinel-2 :\", S2_MEAN)\n",
        "print(\"Écart-type par bande Sentinel-2 :\", S2_STD)\n",
        "\n",
        "#On applique ces transformations aux images en utilisant les valeurs de moyenne et d'écart-type de Sentinel-2\n",
        "transform = DataAugmentation(mean=S2_MEAN, std=S2_STD)\"\"\""
      ]
    },
    {
      "cell_type": "code",
      "execution_count": null,
      "metadata": {
        "colab": {
          "base_uri": "https://localhost:8080/"
        },
        "id": "IANgncyH_hp-",
        "outputId": "4147618c-0642-427b-f87e-ef3609a15b1d"
      },
      "outputs": [
        {
          "name": "stdout",
          "output_type": "stream",
          "text": [
            "- Train set: 60.00% (16200 images)\n",
            "- Val set: 20.00% (5400 images)\n",
            "- Test set: 20.00% (5400 images)\n"
          ]
        }
      ],
      "source": [
        "data_dir = \"data/ds/images/remote_sensing/otherDatasets/sentinel_2/tif/\"\n",
        "dir_fic_txt=\"data/\"\n",
        "#  Chargement des datasets\n",
        "trainset = Sentinel2Dataset(os.path.join(dir_fic_txt, \"eurosat-train.txt\"), data_dir, transform=transform)\n",
        "valset = Sentinel2Dataset(os.path.join(dir_fic_txt, \"eurosat-val.txt\"), data_dir, transform=transform)\n",
        "testset = Sentinel2Dataset(os.path.join(dir_fic_txt, \"eurosat-test.txt\"), data_dir, transform=transform)\n",
        "\n",
        "#  Création des DataLoaders\n",
        "train_loader = DataLoader(trainset, batch_size=64, shuffle=True)\n",
        "val_loader = DataLoader(valset, batch_size=128, shuffle=False)\n",
        "test_loader = DataLoader(testset, batch_size=128, shuffle=False)\n",
        "\n",
        "#  Affichage des proportions\n",
        "nombre_samples = len(trainset) + len(valset) + len(testset)\n",
        "print(f\"- Train set: {len(trainset)*100/nombre_samples:.2f}% ({len(trainset)} images)\")\n",
        "print(f\"- Val set: {len(valset)*100/nombre_samples:.2f}% ({len(valset)} images)\")\n",
        "print(f\"- Test set: {len(testset)*100/nombre_samples:.2f}% ({len(testset)} images)\")"
      ]
    },
    {
      "cell_type": "code",
      "execution_count": null,
      "metadata": {
        "id": "SNmBaR2S_hzJ"
      },
      "outputs": [],
      "source": [
        "#  Définition de la fonction de perte et de l’optimiseur\n",
        "criterion = nn.CrossEntropyLoss()\n",
        "\n",
        "for param in model.parameters():\n",
        "    param.requires_grad = False\n",
        "\n",
        "# Débloquer uniquement la tête de classification\n",
        "for param in model.head.parameters():\n",
        "    param.requires_grad = True\n",
        "\n",
        "# Optimiseur pour la tête du modèle seulement\n",
        "optimizer = optim.Adam(model.head.parameters(), lr=1e-3,weight_decay=1e-4)"
      ]
    },
    {
      "cell_type": "code",
      "execution_count": null,
      "metadata": {
        "colab": {
          "base_uri": "https://localhost:8080/",
          "height": 947
        },
        "id": "xkNm4hdvBRDn",
        "outputId": "e39a2b85-9a81-4505-d4b6-04f848cc4d54"
      },
      "outputs": [
        {
          "name": "stderr",
          "output_type": "stream",
          "text": [
            "\rEpoch 1/25 [Training]:   0%|          | 0/254 [00:00<?, ?it/s]/root/.cache/torch/hub/zhu-xlab_DOFA_master/dofa_v1.py:60: UserWarning: To copy construct from a tensor, it is recommended to use sourceTensor.clone().detach() or sourceTensor.clone().detach().requires_grad_(True), rather than torch.tensor(sourceTensor).\n",
            "  wavelist = torch.tensor(wave_list, device=x.device).float()\n"
          ]
        },
        {
          "name": "stdout",
          "output_type": "stream",
          "text": [
            "Epoch 1/25, Train Loss: 0.919397, Train Acc: 0.7257, Val Loss: 0.588846, Val Acc: 0.8381\n"
          ]
        },
        {
          "name": "stderr",
          "output_type": "stream",
          "text": []
        },
        {
          "name": "stdout",
          "output_type": "stream",
          "text": [
            "Epoch 2/25, Train Loss: 0.552159, Train Acc: 0.8347, Val Loss: 0.456673, Val Acc: 0.8706\n"
          ]
        },
        {
          "name": "stderr",
          "output_type": "stream",
          "text": []
        },
        {
          "name": "stdout",
          "output_type": "stream",
          "text": [
            "Epoch 3/25, Train Loss: 0.478581, Train Acc: 0.8552, Val Loss: 0.407133, Val Acc: 0.8826\n"
          ]
        },
        {
          "name": "stderr",
          "output_type": "stream",
          "text": []
        },
        {
          "name": "stdout",
          "output_type": "stream",
          "text": [
            "Epoch 4/25, Train Loss: 0.437900, Train Acc: 0.8689, Val Loss: 0.378761, Val Acc: 0.8891\n"
          ]
        },
        {
          "name": "stderr",
          "output_type": "stream",
          "text": []
        },
        {
          "name": "stdout",
          "output_type": "stream",
          "text": [
            "Epoch 5/25, Train Loss: 0.426878, Train Acc: 0.8681, Val Loss: 0.354167, Val Acc: 0.8974\n"
          ]
        },
        {
          "name": "stderr",
          "output_type": "stream",
          "text": []
        },
        {
          "name": "stdout",
          "output_type": "stream",
          "text": [
            "Epoch 6/25, Train Loss: 0.416617, Train Acc: 0.8703, Val Loss: 0.345119, Val Acc: 0.8969\n"
          ]
        },
        {
          "name": "stderr",
          "output_type": "stream",
          "text": []
        },
        {
          "name": "stdout",
          "output_type": "stream",
          "text": [
            "Epoch 7/25, Train Loss: 0.400126, Train Acc: 0.8751, Val Loss: 0.333035, Val Acc: 0.8989\n"
          ]
        },
        {
          "name": "stderr",
          "output_type": "stream",
          "text": []
        },
        {
          "name": "stdout",
          "output_type": "stream",
          "text": [
            "Epoch 8/25, Train Loss: 0.388387, Train Acc: 0.8763, Val Loss: 0.324828, Val Acc: 0.9043\n"
          ]
        },
        {
          "name": "stderr",
          "output_type": "stream",
          "text": []
        },
        {
          "name": "stdout",
          "output_type": "stream",
          "text": [
            "Epoch 9/25, Train Loss: 0.375058, Train Acc: 0.8842, Val Loss: 0.318114, Val Acc: 0.9078\n"
          ]
        },
        {
          "name": "stderr",
          "output_type": "stream",
          "text": []
        },
        {
          "name": "stdout",
          "output_type": "stream",
          "text": [
            "Epoch 10/25, Train Loss: 0.379183, Train Acc: 0.8783, Val Loss: 0.313294, Val Acc: 0.9070\n"
          ]
        },
        {
          "name": "stderr",
          "output_type": "stream",
          "text": []
        },
        {
          "name": "stdout",
          "output_type": "stream",
          "text": [
            "Epoch 11/25, Train Loss: 0.370995, Train Acc: 0.8828, Val Loss: 0.299512, Val Acc: 0.9135\n"
          ]
        },
        {
          "name": "stderr",
          "output_type": "stream",
          "text": []
        },
        {
          "name": "stdout",
          "output_type": "stream",
          "text": [
            "Epoch 12/25, Train Loss: 0.367593, Train Acc: 0.8862, Val Loss: 0.302234, Val Acc: 0.9157\n"
          ]
        },
        {
          "name": "stderr",
          "output_type": "stream",
          "text": []
        },
        {
          "name": "stdout",
          "output_type": "stream",
          "text": [
            "Epoch 13/25, Train Loss: 0.373606, Train Acc: 0.8807, Val Loss: 0.291838, Val Acc: 0.9159\n"
          ]
        },
        {
          "name": "stderr",
          "output_type": "stream",
          "text": []
        },
        {
          "name": "stdout",
          "output_type": "stream",
          "text": [
            "Epoch 14/25, Train Loss: 0.374664, Train Acc: 0.8799, Val Loss: 0.283964, Val Acc: 0.9128\n"
          ]
        },
        {
          "name": "stderr",
          "output_type": "stream",
          "text": []
        },
        {
          "name": "stdout",
          "output_type": "stream",
          "text": [
            "Epoch 15/25, Train Loss: 0.370032, Train Acc: 0.8815, Val Loss: 0.291806, Val Acc: 0.9128\n"
          ]
        },
        {
          "name": "stderr",
          "output_type": "stream",
          "text": []
        },
        {
          "name": "stdout",
          "output_type": "stream",
          "text": [
            "Epoch 16/25, Train Loss: 0.363436, Train Acc: 0.8819, Val Loss: 0.290720, Val Acc: 0.9115\n"
          ]
        },
        {
          "name": "stderr",
          "output_type": "stream",
          "text": []
        },
        {
          "name": "stdout",
          "output_type": "stream",
          "text": [
            "Epoch 17/25, Train Loss: 0.367178, Train Acc: 0.8824, Val Loss: 0.278547, Val Acc: 0.9159\n"
          ]
        },
        {
          "name": "stderr",
          "output_type": "stream",
          "text": []
        },
        {
          "name": "stdout",
          "output_type": "stream",
          "text": [
            "Epoch 18/25, Train Loss: 0.365355, Train Acc: 0.8829, Val Loss: 0.288363, Val Acc: 0.9154\n"
          ]
        },
        {
          "name": "stderr",
          "output_type": "stream",
          "text": []
        },
        {
          "name": "stdout",
          "output_type": "stream",
          "text": [
            "Epoch 19/25, Train Loss: 0.352954, Train Acc: 0.8867, Val Loss: 0.292346, Val Acc: 0.9163\n"
          ]
        },
        {
          "name": "stderr",
          "output_type": "stream",
          "text": []
        },
        {
          "name": "stdout",
          "output_type": "stream",
          "text": [
            "Epoch 20/25, Train Loss: 0.365035, Train Acc: 0.8838, Val Loss: 0.281684, Val Acc: 0.9146\n"
          ]
        },
        {
          "name": "stderr",
          "output_type": "stream",
          "text": []
        },
        {
          "name": "stdout",
          "output_type": "stream",
          "text": [
            "Epoch 21/25, Train Loss: 0.356631, Train Acc: 0.8841, Val Loss: 0.283923, Val Acc: 0.9139\n"
          ]
        },
        {
          "name": "stderr",
          "output_type": "stream",
          "text": []
        },
        {
          "name": "stdout",
          "output_type": "stream",
          "text": [
            "Epoch 22/25, Train Loss: 0.362158, Train Acc: 0.8821, Val Loss: 0.279632, Val Acc: 0.9196\n"
          ]
        },
        {
          "name": "stderr",
          "output_type": "stream",
          "text": []
        },
        {
          "name": "stdout",
          "output_type": "stream",
          "text": [
            "Epoch 23/25, Train Loss: 0.357942, Train Acc: 0.8843, Val Loss: 0.279821, Val Acc: 0.9187\n"
          ]
        },
        {
          "name": "stderr",
          "output_type": "stream",
          "text": []
        },
        {
          "name": "stdout",
          "output_type": "stream",
          "text": [
            "Epoch 24/25, Train Loss: 0.363578, Train Acc: 0.8822, Val Loss: 0.276824, Val Acc: 0.9178\n"
          ]
        },
        {
          "name": "stderr",
          "output_type": "stream",
          "text": []
        },
        {
          "name": "stdout",
          "output_type": "stream",
          "text": [
            "Epoch 25/25, Train Loss: 0.351570, Train Acc: 0.8889, Val Loss: 0.273362, Val Acc: 0.9248\n"
          ]
        },
        {
          "data": {
            "image/png": "[encoded data removed]",
            "text/plain": [
              "<Figure size 640x480 with 1 Axes>"
            ]
          },
          "metadata": {},
          "output_type": "display_data"
        }
      ],
      "source": [
        "from tqdm import tqdm\n",
        "#  Entraînement du modèle\n",
        "num_epochs = 25\n",
        "train_losses, val_losses = [], []\n",
        "\n",
        "for epoch in range(num_epochs):\n",
        "    model.train()\n",
        "    running_loss = 0.0 # calculer la perte de l'époque\n",
        "    correct, total = 0, 0 # Variables pour calculer le nombre de prédictions correctes et le total de pred\n",
        "\n",
        "    train_loader_tqdm = tqdm(train_loader, desc=f\"Epoch {epoch+1}/{num_epochs} [Training]\", leave=False)\n",
        "\n",
        "    for images, labels in train_loader_tqdm:\n",
        "        images, labels = images.to(device), labels.to(device)\n",
        "\n",
        "        optimizer.zero_grad() # Réinitialiser les gradients avant la rétropropagation\n",
        "        outputs = model(images, wave_list=wavelengths)  # DOFA\n",
        "        loss = criterion(outputs, labels) # Calculer la perte (difference entre prédictions et vraies étiquettes)\n",
        "        loss.backward() #rétropropagation pour calculer les gradients\n",
        "        optimizer.step() # Mettre à jour les poids du modèle avec les gradients calculés\n",
        "\n",
        "        running_loss += loss.item() * images.size(0)\n",
        "        _, predicted = torch.max(outputs, 1) # Prendre la classe avec la probabilité maximale\n",
        "        correct += (predicted == labels).sum().item() # Compter les prédictions correctes\n",
        "        total += labels.size(0)\n",
        "\n",
        "        # Mettre à jour la barre de progression\n",
        "        train_loader_tqdm.set_postfix(loss=loss.item(), acc=correct/total)\n",
        "\n",
        "    train_loss = running_loss / len(train_loader.dataset)  # Perte moyenne\n",
        "    train_losses.append(train_loss)\n",
        "    train_acc = correct / total\n",
        "\n",
        "    #  Évaluation sur validation\n",
        "    model.eval()\n",
        "    running_loss, correct, total = 0.0, 0, 0 # Réinitialiser les variables pour la validation\n",
        "\n",
        "    val_loader_tqdm = tqdm(val_loader, desc=f\"Epoch {epoch+1}/{num_epochs} [Validation]\", leave=False)\n",
        "\n",
        "    with torch.no_grad():\n",
        "        for images, labels in val_loader_tqdm:\n",
        "            images, labels = images.to(device), labels.to(device)\n",
        "\n",
        "            outputs = model(images, wave_list=wavelengths) #reucp logits\n",
        "\n",
        "            loss = criterion(outputs, labels) #perte\n",
        "            running_loss += loss.item() * images.size(0)\n",
        "\n",
        "            _, predicted = torch.max(outputs, 1)\n",
        "            correct += (predicted == labels).sum().item()\n",
        "            total += labels.size(0)\n",
        "\n",
        "            # Mettre à jour la barre de progression\n",
        "            val_loader_tqdm.set_postfix(loss=loss.item(), acc=correct/total)\n",
        "\n",
        "    val_loss = running_loss / len(val_loader.dataset)\n",
        "    val_losses.append(val_loss)\n",
        "    val_acc = correct / total\n",
        "\n",
        "    print(f\"Epoch {epoch+1}/{num_epochs}, Train Loss: {train_loss:.6f}, Train Acc: {train_acc:.4f}, Val Loss: {val_loss:.6f}, Val Acc: {val_acc:.4f}\")\n",
        "\n",
        "#  Affichage de la courbe de loss\n",
        "plt.plot(range(1, num_epochs+1), train_losses, label='Train Loss')\n",
        "plt.plot(range(1, num_epochs+1), val_losses, label='Validation Loss')\n",
        "plt.xlabel('Epochs')\n",
        "plt.ylabel('Loss')\n",
        "plt.legend()\n",
        "plt.show()"
      ]
    },
    {
      "cell_type": "code",
      "execution_count": null,
      "metadata": {
        "colab": {
          "base_uri": "https://localhost:8080/",
          "height": 887
        },
        "id": "RZVccMKrBRJK",
        "outputId": "c11ee222-c55f-4900-b4ce-1d01c7d6fc28"
      },
      "outputs": [
        {
          "name": "stderr",
          "output_type": "stream",
          "text": [
            "\rCalcul des métriques:   0%|          | 0/43 [00:00<?, ?batch/s]/root/.cache/torch/hub/zhu-xlab_DOFA_master/dofa_v1.py:60: UserWarning: To copy construct from a tensor, it is recommended to use sourceTensor.clone().detach() or sourceTensor.clone().detach().requires_grad_(True), rather than torch.tensor(sourceTensor).\n",
            "  wavelist = torch.tensor(wave_list, device=x.device).float()\n",
            "Calcul des métriques: 100%|██████████| 43/43 [01:42<00:00,  2.38s/batch]\n"
          ]
        },
        {
          "data": {
            "image/png": "[encoded data removed]",
            "text/plain": [
              "<Figure size 800x600 with 2 Axes>"
            ]
          },
          "metadata": {},
          "output_type": "display_data"
        },
        {
          "name": "stdout",
          "output_type": "stream",
          "text": [
            "Accuracy: 92.15%\n",
            "Precision: 0.9231\n",
            "Recall: 0.9215\n",
            "F1 Score: 0.9212\n",
            "Mean Absolute Error (MAE): 0.2700\n",
            "Mean Squared Error (MSE): 1.1730\n"
          ]
        }
      ],
      "source": [
        "from sklearn.metrics import precision_score, recall_score, f1_score, mean_absolute_error, mean_squared_error,confusion_matrix\n",
        "import seaborn as sns\n",
        "\n",
        "all_preds = []\n",
        "all_labels = []\n",
        "\n",
        "#  Calcul des prédictions et des métriques avec une barre de progression\n",
        "with torch.no_grad():\n",
        "    model.eval()\n",
        "\n",
        "    # Utilisation de tqdm pour afficher une barre de progression\n",
        "    for images, labels in tqdm(test_loader, desc=\"Calcul des métriques\", unit=\"batch\"):\n",
        "        images, labels = images.to(device), labels.to(device)\n",
        "        outputs = model(images, wave_list=wavelengths)\n",
        "\n",
        "        # Trouver les indices de la classe prédite\n",
        "        _, predicted = torch.max(outputs, 1)\n",
        "\n",
        "        # Enregistrer les prédictions et les labels pour les métriques\n",
        "        all_preds.extend(predicted.cpu().numpy())\n",
        "        all_labels.extend(labels.cpu().numpy())\n",
        "\n",
        "#  Création de la matrice de confusion\n",
        "cm = confusion_matrix(all_labels, all_preds)\n",
        "\n",
        "#  Affichage sous forme de heatmap avec Seaborn\n",
        "plt.figure(figsize=(8, 6))\n",
        "class_names = list(testset.label_map.keys())\n",
        "\n",
        "sns.heatmap(cm, annot=True, fmt='d', cmap='Blues', xticklabels=class_names, yticklabels=class_names)\n",
        "plt.xlabel('Prédictions')\n",
        "plt.ylabel('Vérité terrain')\n",
        "plt.title('Matrice de Confusion')\n",
        "plt.show()\n",
        "\n",
        "#  Calcul des métriques\n",
        "accuracy = np.sum(np.diag(cm)) / np.sum(cm)\n",
        "precision = precision_score(all_labels, all_preds, average='weighted')\n",
        "recall = recall_score(all_labels, all_preds, average='weighted')\n",
        "f1 = f1_score(all_labels, all_preds, average='weighted')\n",
        "mae = mean_absolute_error(all_labels, all_preds)\n",
        "mse = mean_squared_error(all_labels, all_preds)\n",
        "\n",
        "# Affichage des résultats\n",
        "print(f\"Accuracy: {accuracy*100:.2f}%\")\n",
        "print(f\"Precision: {precision:.4f}\")\n",
        "print(f\"Recall: {recall:.4f}\")\n",
        "print(f\"F1 Score: {f1:.4f}\")\n",
        "print(f\"Mean Absolute Error (MAE): {mae:.4f}\")\n",
        "print(f\"Mean Squared Error (MSE): {mse:.4f}\")"
      ]
    },
    {
      "cell_type": "code",
      "execution_count": null,
      "metadata": {
        "id": "19mCiYyLL0X1"
      },
      "outputs": [],
      "source": []
    }
  ],
  "metadata": {
    "accelerator": "GPU",
    "colab": {
      "gpuType": "T4",
      "provenance": []
    },
    "kernelspec": {
      "display_name": "Python 3",
      "name": "python3"
    },
    "language_info": {
      "name": "python"
    }
  },
  "nbformat": 4,
  "nbformat_minor": 0
}
