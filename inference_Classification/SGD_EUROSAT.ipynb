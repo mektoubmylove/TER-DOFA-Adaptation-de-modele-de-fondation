{
  "cells": [
    {
      "cell_type": "code",
      "execution_count": null,
      "metadata": {
        "colab": {
          "base_uri": "https://localhost:8080/"
        },
        "id": "BHWHOgzZ2w5F",
        "outputId": "7728e0a6-be8b-4558-c168-1c0fb15600cc"
      },
      "outputs": [],
      "source": [
        "!pip install torchgeo torchvision torch"
      ]
    },
    {
      "cell_type": "code",
      "execution_count": null,
      "metadata": {
        "colab": {
          "base_uri": "https://localhost:8080/"
        },
        "id": "zsRJSeja3DT_",
        "outputId": "a7b09ec6-1d39-458b-81e4-250a1a60d320"
      },
      "outputs": [],
      "source": [
        "!pip install rasterio"
      ]
    },
    {
      "cell_type": "code",
      "execution_count": null,
      "metadata": {
        "colab": {
          "base_uri": "https://localhost:8080/"
        },
        "id": "0Nx8IAYt3DXz",
        "outputId": "d8990d82-2db5-4019-8020-0d7d769d7c34"
      },
      "outputs": [],
      "source": [
        "from torchgeo.datasets import EuroSAT\n",
        "\n",
        "\n",
        "# Charger le dataset EuroSAT\n",
        "dataset = EuroSAT(root=\"data\", download=True)"
      ]
    },
    {
      "cell_type": "code",
      "execution_count": null,
      "metadata": {
        "id": "wLLMIbg63HTq"
      },
      "outputs": [],
      "source": [
        "import numpy as np\n",
        "import matplotlib.pyplot as plt\n",
        "import torch\n",
        "import torch.nn as nn\n",
        "import torch.optim as optim\n",
        "import torchvision.transforms as transforms\n",
        "import rasterio\n",
        "from torch.utils.data import Dataset, DataLoader\n",
        "import glob\n",
        "import os"
      ]
    },
    {
      "cell_type": "code",
      "execution_count": null,
      "metadata": {
        "colab": {
          "base_uri": "https://localhost:8080/"
        },
        "id": "Gt896oUI3HZd",
        "outputId": "4ee924d2-7412-4e26-9c60-6e7917e53b6b"
      },
      "outputs": [
        {
          "name": "stderr",
          "output_type": "stream",
          "text": [
            "/usr/local/lib/python3.11/dist-packages/torch/hub.py:330: UserWarning: You are about to download and run code from an untrusted repository. In a future release, this won't be allowed. To add the repository to your trusted list, change the command to {calling_fn}(..., trust_repo=False) and a command prompt will appear asking for an explicit confirmation of trust, or load(..., trust_repo=True), which will assume that the prompt is to be answered with 'yes'. You can also use load(..., trust_repo='check') which will only prompt for confirmation if the repo is not already trusted. This will eventually be the default behaviour\n",
            "  warnings.warn(\n",
            "Downloading: \"https://github.com/zhu-xlab/DOFA/zipball/master\" to /root/.cache/torch/hub/master.zip\n",
            "Downloading: \"https://huggingface.co/earthflow/DOFA/resolve/main/DOFA_ViT_base_e100.pth\" to /root/.cache/torch/hub/checkpoints/DOFA_ViT_base_e100.pth\n",
            "100%|██████████| 427M/427M [00:06<00:00, 74.2MB/s]\n"
          ]
        }
      ],
      "source": [
        "\n",
        "device = torch.device(\"cuda\" if torch.cuda.is_available() else \"cpu\")\n",
        "\n",
        "#  Chargement du modèle DOFA pré-entraîné\n",
        "model = torch.hub.load('zhu-xlab/DOFA', 'vit_base_dofa', pretrained=True).to(device)\n",
        "\n",
        "# Sauvegarde des anciens poids et biais de la tête pré-entraînée\n",
        "pretrained_weights = model.head.weight.clone()\n",
        "pretrained_bias = model.head.bias.clone()\n",
        "\n",
        "num_classes = 10\n",
        "\n",
        "model.head = nn.Linear(model.head.in_features, num_classes).to(device)  # Adapter pour 10 classes EuroSAT\n",
        "\n",
        "# Initialisation des nouveaux poids en copiant les anciens pour éviter l'initialisation aléatoire complète\n",
        "with torch.no_grad():\n",
        "    model.head.weight[:num_classes] = pretrained_weights[:num_classes]\n",
        "    model.head.bias[:num_classes] = pretrained_bias[:num_classes]\n",
        "\n",
        "#  Pour normalisation Sentinel-2\n",
        "S2_MEAN= torch.tensor([1354.4061, 1118.2440, 1042.9303,  947.6266, 1199.4730, 1999.7909,\n",
        "        2369.2234, 2296.8264,  732.0832,   12.1133, 1819.0110, 1118.9241,\n",
        "        2594.1421],dtype=torch.float32)\n",
        "S2_STD= torch.tensor([245.7125,  333.0079,  395.0908,  593.7499,  566.4167,  861.1826,\n",
        "        1086.6309, 1117.9812,  404.9203,    4.7758, 1002.5856,  761.3032,\n",
        "        1231.5829], dtype=torch.float32)\n",
        "wavelengths = torch.tensor([0.443, 0.490, 0.560, 0.665, 0.705, 0.740, 0.783, 0.842, 0.865, 0.945, 1.375, 1.610, 2.190], dtype=torch.float32).to(device)"
      ]
    },
    {
      "cell_type": "code",
      "execution_count": null,
      "metadata": {
        "id": "_aZFYC3T_hnV"
      },
      "outputs": [],
      "source": [
        "#  Classe pour chargement et prétraitement des images\n",
        "class Sentinel2Dataset(Dataset):\n",
        "    def __init__(self, file_list, root_dir, transform=None):\n",
        "        #On charge la liste des fichiers images à partir du fichier texte (un fichier par ligne)\n",
        "        self.file_list = [line.strip() for line in open(file_list, 'r')]\n",
        "        self.root_dir = root_dir #dossier qui cntient lesimages\n",
        "        self.transform = transform #transformations\n",
        "        self.label_map = {cls: idx for idx, cls in enumerate([\"AnnualCrop\", \"Forest\", \"HerbaceousVegetation\", \"Highway\",\n",
        "                                                              \"Industrial\", \"Pasture\", \"PermanentCrop\", \"Residential\",\n",
        "                                                              \"River\", \"SeaLake\"])}\n",
        "\n",
        "    def __len__(self):\n",
        "        return len(self.file_list)\n",
        "\n",
        "    def __getitem__(self, idx):\n",
        "      # Récupère le nom du fichier image à l'index donné\n",
        "        img_name = self.file_list[idx]\n",
        "        class_name = img_name.split('_')[0]  # Extraire la classe depuis le nom du fichier\n",
        "        img_path = os.path.join(self.root_dir, class_name, img_name.replace(\".jpg\", \".tif\")) #chemin vers l'image\n",
        "\n",
        "        with rasterio.open(img_path) as src:\n",
        "            img = src.read().astype(np.float32)\n",
        "\n",
        "        img = torch.from_numpy(img)  # Convertir en tensor\n",
        "        label = self.label_map[class_name]  # Obtenir l'index de classe\n",
        "        #applique les transfo\n",
        "        if self.transform:\n",
        "            img = self.transform(img)\n",
        "\n",
        "        return img, label\n",
        "\n",
        "#  Définition des transformations\n",
        "class DataAugmentation(nn.Module):\n",
        "    def __init__(self, mean, std):\n",
        "        super().__init__()\n",
        "        self.transform = transforms.Compose([\n",
        "            #Découpe aléatoire et redimensionnement de l'image à 224x224\n",
        "            transforms.RandomResizedCrop(size=(224, 224), scale=(0.2, 1.0)),\n",
        "            #Normalisation\n",
        "            transforms.Normalize(mean=mean, std=std)\n",
        "        ])\n",
        "\n",
        "    def forward(self, x):\n",
        "       # Applique les transformations à l'image\n",
        "        return self.transform(x)\n",
        "#On applique ces transformations aux images en utilisant les valeurs de moyenne et d'écart-type de Sentinel-2\n",
        "transform = DataAugmentation(mean=S2_MEAN, std=S2_STD)"
      ]
    },
    {
      "cell_type": "code",
      "execution_count": null,
      "metadata": {
        "colab": {
          "base_uri": "https://localhost:8080/"
        },
        "id": "IANgncyH_hp-",
        "outputId": "278fbf8c-ae75-4dfa-d397-b58cd3218960"
      },
      "outputs": [
        {
          "name": "stdout",
          "output_type": "stream",
          "text": [
            "- Train set: 60.00% (16200 images)\n",
            "- Val set: 20.00% (5400 images)\n",
            "- Test set: 20.00% (5400 images)\n"
          ]
        }
      ],
      "source": [
        "#  Chargement des datasets\n",
        "data_dir = \"data/ds/images/remote_sensing/otherDatasets/sentinel_2/tif/\"\n",
        "dir_fic_txt=\"data/\"\n",
        "trainset = Sentinel2Dataset(os.path.join(dir_fic_txt, \"eurosat-train.txt\"), data_dir, transform=transform)\n",
        "valset = Sentinel2Dataset(os.path.join(dir_fic_txt, \"eurosat-val.txt\"), data_dir, transform=transform)\n",
        "testset = Sentinel2Dataset(os.path.join(dir_fic_txt, \"eurosat-test.txt\"), data_dir, transform=transform)\n",
        "\n",
        "#  Création des DataLoaders\n",
        "train_loader = DataLoader(trainset, batch_size=64, shuffle=True)\n",
        "val_loader = DataLoader(valset, batch_size=128, shuffle=False)\n",
        "test_loader = DataLoader(testset, batch_size=128, shuffle=False)\n",
        "\n",
        "#  Affichage des proportions\n",
        "nombre_samples = len(trainset) + len(valset) + len(testset)\n",
        "print(f\"- Train set: {len(trainset)*100/nombre_samples:.2f}% ({len(trainset)} images)\")\n",
        "print(f\"- Val set: {len(valset)*100/nombre_samples:.2f}% ({len(valset)} images)\")\n",
        "print(f\"- Test set: {len(testset)*100/nombre_samples:.2f}% ({len(testset)} images)\")"
      ]
    },
    {
      "cell_type": "code",
      "execution_count": null,
      "metadata": {
        "id": "SNmBaR2S_hzJ"
      },
      "outputs": [],
      "source": [
        "#  Définition de la fonction de perte et de l’optimiseur\n",
        "criterion = nn.CrossEntropyLoss()\n",
        "\n",
        "for param in model.parameters():\n",
        "    param.requires_grad = False\n",
        "\n",
        "# Débloquer uniquement la tête de classification\n",
        "for param in model.head.parameters():\n",
        "    param.requires_grad = True\n",
        "\n",
        "# Optimiseur pour la tête du modèle seulement\n",
        "optimizer = optim.SGD(model.head.parameters(), lr=1e-3,momentum=0.9,weight_decay=5e-4)"
      ]
    },
    {
      "cell_type": "code",
      "execution_count": null,
      "metadata": {
        "colab": {
          "base_uri": "https://localhost:8080/",
          "height": 947
        },
        "id": "xkNm4hdvBRDn",
        "outputId": "fc92b7c7-3f97-49ce-d16c-29aa8d40a2c7"
      },
      "outputs": [
        {
          "name": "stderr",
          "output_type": "stream",
          "text": [
            "Epoch 1/25 [Training]:   0%|          | 0/254 [00:00<?, ?it/s]/root/.cache/torch/hub/zhu-xlab_DOFA_master/dofa_v1.py:60: UserWarning: To copy construct from a tensor, it is recommended to use sourceTensor.clone().detach() or sourceTensor.clone().detach().requires_grad_(True), rather than torch.tensor(sourceTensor).\n",
            "  wavelist = torch.tensor(wave_list, device=x.device).float()\n"
          ]
        },
        {
          "name": "stdout",
          "output_type": "stream",
          "text": [
            "Epoch 1/25, Train Loss: 1.317949, Train Acc: 0.6035, Val Loss: 0.996152, Val Acc: 0.7048\n"
          ]
        },
        {
          "name": "stderr",
          "output_type": "stream",
          "text": []
        },
        {
          "name": "stdout",
          "output_type": "stream",
          "text": [
            "Epoch 2/25, Train Loss: 0.882458, Train Acc: 0.7604, Val Loss: 0.811336, Val Acc: 0.7791\n"
          ]
        },
        {
          "name": "stderr",
          "output_type": "stream",
          "text": []
        },
        {
          "name": "stdout",
          "output_type": "stream",
          "text": [
            "Epoch 3/25, Train Loss: 0.752103, Train Acc: 0.7998, Val Loss: 0.712596, Val Acc: 0.8030\n"
          ]
        },
        {
          "name": "stderr",
          "output_type": "stream",
          "text": []
        },
        {
          "name": "stdout",
          "output_type": "stream",
          "text": [
            "Epoch 4/25, Train Loss: 0.669531, Train Acc: 0.8221, Val Loss: 0.667575, Val Acc: 0.8044\n"
          ]
        },
        {
          "name": "stderr",
          "output_type": "stream",
          "text": []
        },
        {
          "name": "stdout",
          "output_type": "stream",
          "text": [
            "Epoch 5/25, Train Loss: 0.624188, Train Acc: 0.8311, Val Loss: 0.613192, Val Acc: 0.8256\n"
          ]
        },
        {
          "name": "stderr",
          "output_type": "stream",
          "text": []
        },
        {
          "name": "stdout",
          "output_type": "stream",
          "text": [
            "Epoch 6/25, Train Loss: 0.587680, Train Acc: 0.8419, Val Loss: 0.583376, Val Acc: 0.8376\n"
          ]
        },
        {
          "name": "stderr",
          "output_type": "stream",
          "text": []
        },
        {
          "name": "stdout",
          "output_type": "stream",
          "text": [
            "Epoch 7/25, Train Loss: 0.552939, Train Acc: 0.8512, Val Loss: 0.559338, Val Acc: 0.8407\n"
          ]
        },
        {
          "name": "stderr",
          "output_type": "stream",
          "text": []
        },
        {
          "name": "stdout",
          "output_type": "stream",
          "text": [
            "Epoch 8/25, Train Loss: 0.530304, Train Acc: 0.8535, Val Loss: 0.530278, Val Acc: 0.8526\n"
          ]
        },
        {
          "name": "stderr",
          "output_type": "stream",
          "text": []
        },
        {
          "name": "stdout",
          "output_type": "stream",
          "text": [
            "Epoch 9/25, Train Loss: 0.504997, Train Acc: 0.8594, Val Loss: 0.515758, Val Acc: 0.8589\n"
          ]
        },
        {
          "name": "stderr",
          "output_type": "stream",
          "text": []
        },
        {
          "name": "stdout",
          "output_type": "stream",
          "text": [
            "Epoch 10/25, Train Loss: 0.492915, Train Acc: 0.8652, Val Loss: 0.496928, Val Acc: 0.8631\n"
          ]
        },
        {
          "name": "stderr",
          "output_type": "stream",
          "text": []
        },
        {
          "name": "stdout",
          "output_type": "stream",
          "text": [
            "Epoch 11/25, Train Loss: 0.473200, Train Acc: 0.8706, Val Loss: 0.478125, Val Acc: 0.8709\n"
          ]
        },
        {
          "name": "stderr",
          "output_type": "stream",
          "text": []
        },
        {
          "name": "stdout",
          "output_type": "stream",
          "text": [
            "Epoch 12/25, Train Loss: 0.463503, Train Acc: 0.8720, Val Loss: 0.476549, Val Acc: 0.8769\n"
          ]
        },
        {
          "name": "stderr",
          "output_type": "stream",
          "text": []
        },
        {
          "name": "stdout",
          "output_type": "stream",
          "text": [
            "Epoch 13/25, Train Loss: 0.451952, Train Acc: 0.8774, Val Loss: 0.452885, Val Acc: 0.8741\n"
          ]
        },
        {
          "name": "stderr",
          "output_type": "stream",
          "text": []
        },
        {
          "name": "stdout",
          "output_type": "stream",
          "text": [
            "Epoch 14/25, Train Loss: 0.443435, Train Acc: 0.8751, Val Loss: 0.447903, Val Acc: 0.8657\n"
          ]
        },
        {
          "name": "stderr",
          "output_type": "stream",
          "text": []
        },
        {
          "name": "stdout",
          "output_type": "stream",
          "text": [
            "Epoch 15/25, Train Loss: 0.433053, Train Acc: 0.8790, Val Loss: 0.455204, Val Acc: 0.8706\n"
          ]
        },
        {
          "name": "stderr",
          "output_type": "stream",
          "text": []
        },
        {
          "name": "stdout",
          "output_type": "stream",
          "text": [
            "Epoch 16/25, Train Loss: 0.423083, Train Acc: 0.8815, Val Loss: 0.431193, Val Acc: 0.8800\n"
          ]
        },
        {
          "name": "stderr",
          "output_type": "stream",
          "text": []
        },
        {
          "name": "stdout",
          "output_type": "stream",
          "text": [
            "Epoch 17/25, Train Loss: 0.413916, Train Acc: 0.8853, Val Loss: 0.423017, Val Acc: 0.8780\n"
          ]
        },
        {
          "name": "stderr",
          "output_type": "stream",
          "text": []
        },
        {
          "name": "stdout",
          "output_type": "stream",
          "text": [
            "Epoch 18/25, Train Loss: 0.410487, Train Acc: 0.8875, Val Loss: 0.423992, Val Acc: 0.8848\n"
          ]
        },
        {
          "name": "stderr",
          "output_type": "stream",
          "text": []
        },
        {
          "name": "stdout",
          "output_type": "stream",
          "text": [
            "Epoch 19/25, Train Loss: 0.398634, Train Acc: 0.8882, Val Loss: 0.421585, Val Acc: 0.8780\n"
          ]
        },
        {
          "name": "stderr",
          "output_type": "stream",
          "text": []
        },
        {
          "name": "stdout",
          "output_type": "stream",
          "text": [
            "Epoch 20/25, Train Loss: 0.399446, Train Acc: 0.8870, Val Loss: 0.414110, Val Acc: 0.8839\n"
          ]
        },
        {
          "name": "stderr",
          "output_type": "stream",
          "text": []
        },
        {
          "name": "stdout",
          "output_type": "stream",
          "text": [
            "Epoch 21/25, Train Loss: 0.388963, Train Acc: 0.8907, Val Loss: 0.409856, Val Acc: 0.8809\n"
          ]
        },
        {
          "name": "stderr",
          "output_type": "stream",
          "text": []
        },
        {
          "name": "stdout",
          "output_type": "stream",
          "text": [
            "Epoch 22/25, Train Loss: 0.383284, Train Acc: 0.8918, Val Loss: 0.403829, Val Acc: 0.8926\n"
          ]
        },
        {
          "name": "stderr",
          "output_type": "stream",
          "text": []
        },
        {
          "name": "stdout",
          "output_type": "stream",
          "text": [
            "Epoch 23/25, Train Loss: 0.377367, Train Acc: 0.8968, Val Loss: 0.403266, Val Acc: 0.8861\n"
          ]
        },
        {
          "name": "stderr",
          "output_type": "stream",
          "text": []
        },
        {
          "name": "stdout",
          "output_type": "stream",
          "text": [
            "Epoch 24/25, Train Loss: 0.379896, Train Acc: 0.8917, Val Loss: 0.390324, Val Acc: 0.8898\n"
          ]
        },
        {
          "name": "stderr",
          "output_type": "stream",
          "text": []
        },
        {
          "name": "stdout",
          "output_type": "stream",
          "text": [
            "Epoch 25/25, Train Loss: 0.364775, Train Acc: 0.8983, Val Loss: 0.382473, Val Acc: 0.8931\n"
          ]
        },
        {
          "data": {
            "image/png": "[encoded data removed]",
            "text/plain": [
              "<Figure size 640x480 with 1 Axes>"
            ]
          },
          "metadata": {},
          "output_type": "display_data"
        }
      ],
      "source": [
        "from tqdm import tqdm\n",
        "#  Entraînement du modèle\n",
        "num_epochs = 25\n",
        "train_losses, val_losses = [], []\n",
        "\n",
        "for epoch in range(num_epochs):\n",
        "    model.train()\n",
        "    running_loss = 0.0 # calculer la perte totale de l'époque\n",
        "    correct, total = 0, 0 # Variables pour calculer le nombre de prédictions correctes et le total\n",
        "\n",
        "    train_loader_tqdm = tqdm(train_loader, desc=f\"Epoch {epoch+1}/{num_epochs} [Training]\", leave=False)\n",
        "\n",
        "    for images, labels in train_loader_tqdm:\n",
        "        images, labels = images.to(device), labels.to(device)\n",
        "\n",
        "        optimizer.zero_grad() # Réinitialiser les gradients avant la rétropropagation\n",
        "        outputs = model(images, wave_list=wavelengths)  # DOFA\n",
        "        loss = criterion(outputs, labels) # Calculer la perte (difference entre prédictions et vraies étiquettes)\n",
        "        loss.backward() #rétropropagation pour calculer les gradients\n",
        "        optimizer.step() # Mettre à jour les poids du modèle avec les gradients calculés\n",
        "\n",
        "        running_loss += loss.item() * images.size(0)\n",
        "        _, predicted = torch.max(outputs, 1) # Prendre la classe avec la probabilité maximale\n",
        "        correct += (predicted == labels).sum().item() # Compter les prédictions correctes\n",
        "        total += labels.size(0)\n",
        "\n",
        "        # Mettre à jour la barre de progression\n",
        "        train_loader_tqdm.set_postfix(loss=loss.item(), acc=correct/total)\n",
        "\n",
        "    train_loss = running_loss / len(train_loader.dataset)  # Perte moyenne\n",
        "    train_losses.append(train_loss)\n",
        "    train_acc = correct / total\n",
        "\n",
        "    #  Évaluation sur validation\n",
        "    model.eval()\n",
        "    running_loss, correct, total = 0.0, 0, 0 # Réinitialiser les variables pour la validation\n",
        "\n",
        "    val_loader_tqdm = tqdm(val_loader, desc=f\"Epoch {epoch+1}/{num_epochs} [Validation]\", leave=False)\n",
        "\n",
        "    with torch.no_grad():\n",
        "        for images, labels in val_loader_tqdm:\n",
        "            images, labels = images.to(device), labels.to(device)\n",
        "\n",
        "            outputs = model(images, wave_list=wavelengths) #reucp logits\n",
        "\n",
        "            loss = criterion(outputs, labels) #perte\n",
        "            running_loss += loss.item() * images.size(0)\n",
        "\n",
        "            _, predicted = torch.max(outputs, 1)\n",
        "            correct += (predicted == labels).sum().item()\n",
        "            total += labels.size(0)\n",
        "\n",
        "            # Mettre à jour la barre de progression\n",
        "            val_loader_tqdm.set_postfix(loss=loss.item(), acc=correct/total)\n",
        "\n",
        "    val_loss = running_loss / len(val_loader.dataset)\n",
        "    val_losses.append(val_loss)\n",
        "    val_acc = correct / total\n",
        "\n",
        "    print(f\"Epoch {epoch+1}/{num_epochs}, Train Loss: {train_loss:.6f}, Train Acc: {train_acc:.4f}, Val Loss: {val_loss:.6f}, Val Acc: {val_acc:.4f}\")\n",
        "\n",
        "#  Affichage de la courbe de loss\n",
        "plt.plot(range(1, num_epochs+1), train_losses, label='Train Loss')\n",
        "plt.plot(range(1, num_epochs+1), val_losses, label='Validation Loss')\n",
        "plt.xlabel('Epochs')\n",
        "plt.ylabel('Loss')\n",
        "plt.legend()\n",
        "plt.show()"
      ]
    },
    {
      "cell_type": "code",
      "execution_count": null,
      "metadata": {
        "colab": {
          "base_uri": "https://localhost:8080/",
          "height": 887
        },
        "id": "RZVccMKrBRJK",
        "outputId": "a7d35eac-7aea-4b06-9a80-53b45d24d031"
      },
      "outputs": [
        {
          "name": "stderr",
          "output_type": "stream",
          "text": [
            "\rCalcul des métriques:   0%|          | 0/43 [00:00<?, ?batch/s]/root/.cache/torch/hub/zhu-xlab_DOFA_master/dofa_v1.py:60: UserWarning: To copy construct from a tensor, it is recommended to use sourceTensor.clone().detach() or sourceTensor.clone().detach().requires_grad_(True), rather than torch.tensor(sourceTensor).\n",
            "  wavelist = torch.tensor(wave_list, device=x.device).float()\n",
            "Calcul des métriques: 100%|██████████| 43/43 [01:39<00:00,  2.31s/batch]\n"
          ]
        },
        {
          "data": {
            "image/png": "[encoded data removed]",
            "text/plain": [
              "<Figure size 800x600 with 2 Axes>"
            ]
          },
          "metadata": {},
          "output_type": "display_data"
        },
        {
          "name": "stdout",
          "output_type": "stream",
          "text": [
            "Accuracy: 89.91%\n",
            "Precision: 0.8997\n",
            "Recall: 0.8991\n",
            "F1 Score: 0.8986\n",
            "Mean Absolute Error (MAE): 0.3365\n",
            "Mean Squared Error (MSE): 1.4176\n"
          ]
        }
      ],
      "source": [
        "from sklearn.metrics import precision_score, recall_score, f1_score, mean_absolute_error, mean_squared_error,confusion_matrix\n",
        "import seaborn as sns\n",
        "\n",
        "all_preds = []\n",
        "all_labels = []\n",
        "\n",
        "#  Calcul des prédictions et des métriques avec une barre de progression\n",
        "with torch.no_grad():\n",
        "    model.eval()\n",
        "\n",
        "    # Utilisation de tqdm pour afficher une barre de progression\n",
        "    for images, labels in tqdm(test_loader, desc=\"Calcul des métriques\", unit=\"batch\"):\n",
        "        images, labels = images.to(device), labels.to(device)\n",
        "        outputs = model(images, wave_list=wavelengths)\n",
        "\n",
        "        # Trouver les indices de la classe prédite\n",
        "        _, predicted = torch.max(outputs, 1)\n",
        "\n",
        "        # Enregistrer les prédictions et les labels pour les métriques\n",
        "        all_preds.extend(predicted.cpu().numpy())\n",
        "        all_labels.extend(labels.cpu().numpy())\n",
        "\n",
        "#  Création de la matrice de confusion\n",
        "cm = confusion_matrix(all_labels, all_preds)\n",
        "\n",
        "#  Affichage sous forme de heatmap avec Seaborn\n",
        "plt.figure(figsize=(8, 6))\n",
        "class_names = list(testset.label_map.keys())\n",
        "\n",
        "sns.heatmap(cm, annot=True, fmt='d', cmap='Blues', xticklabels=class_names, yticklabels=class_names)\n",
        "plt.xlabel('Prédictions')\n",
        "plt.ylabel('Vérité terrain')\n",
        "plt.title('Matrice de Confusion')\n",
        "plt.show()\n",
        "\n",
        "#  Calcul des métriques\n",
        "accuracy = np.sum(np.diag(cm)) / np.sum(cm)\n",
        "precision = precision_score(all_labels, all_preds, average='weighted')\n",
        "recall = recall_score(all_labels, all_preds, average='weighted')\n",
        "f1 = f1_score(all_labels, all_preds, average='weighted')\n",
        "mae = mean_absolute_error(all_labels, all_preds)\n",
        "mse = mean_squared_error(all_labels, all_preds)\n",
        "\n",
        "# Affichage des résultats\n",
        "print(f\"Accuracy: {accuracy*100:.2f}%\")\n",
        "print(f\"Precision: {precision:.4f}\")\n",
        "print(f\"Recall: {recall:.4f}\")\n",
        "print(f\"F1 Score: {f1:.4f}\")\n",
        "print(f\"Mean Absolute Error (MAE): {mae:.4f}\")\n",
        "print(f\"Mean Squared Error (MSE): {mse:.4f}\")"
      ]
    },
    {
      "cell_type": "code",
      "execution_count": null,
      "metadata": {
        "id": "19mCiYyLL0X1"
      },
      "outputs": [],
      "source": []
    }
  ],
  "metadata": {
    "accelerator": "GPU",
    "colab": {
      "gpuType": "T4",
      "provenance": []
    },
    "kernelspec": {
      "display_name": "Python 3",
      "name": "python3"
    },
    "language_info": {
      "name": "python"
    }
  },
  "nbformat": 4,
  "nbformat_minor": 0
}
